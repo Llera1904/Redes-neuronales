{
 "cells": [
  {
   "attachments": {},
   "cell_type": "markdown",
   "metadata": {},
   "source": [
    "# Nombre: Perez Llera Leonardo\n",
    "# Grupo: 6BM1\n",
    "\n",
    "# Hiperparametros\n",
    "# Epochs = \n",
    "# Learning rate = \n",
    "# Batch = "
   ]
  },
  {
   "cell_type": "code",
   "execution_count": 4,
   "metadata": {},
   "outputs": [],
   "source": [
    "%matplotlib inline\n",
    "%config InlineBackend.figure_format = 'retina'\n",
    "\n",
    "import numpy as np\n",
    "import time\n",
    "import torch\n",
    "import torch.nn.functional as F\n",
    "from torch import nn\n",
    "from torch import optim\n",
    "from collections import OrderedDict"
   ]
  },
  {
   "cell_type": "code",
   "execution_count": 5,
   "metadata": {},
   "outputs": [
    {
     "name": "stdout",
     "output_type": "stream",
     "text": [
      "tensor([-0.8228, -0.2055, -0.5228,  0.3580], requires_grad=True)\n",
      "tensor([0.6771, 0.0422, 0.2733, 0.1282], grad_fn=<PowBackward0>)\n",
      "<PowBackward0 object at 0x000001D85676E400>\n"
     ]
    }
   ],
   "source": [
    "# Especificamos que el tensor x es seguido por autograd \n",
    "x = torch.randn(4, requires_grad=True)\n",
    "print(x)\n",
    "\n",
    "# Generamos un nuevo tensor a partir de x\n",
    "y = x**2\n",
    "print(y)\n",
    "\n",
    "# Con grad_fn observamos la operación que generó, una operación potencia (pow)\n",
    "print(y.grad_fn)"
   ]
  }
 ],
 "metadata": {
  "kernelspec": {
   "display_name": "python",
   "language": "python",
   "name": "python3"
  },
  "language_info": {
   "codemirror_mode": {
    "name": "ipython",
    "version": 3
   },
   "file_extension": ".py",
   "mimetype": "text/x-python",
   "name": "python",
   "nbconvert_exporter": "python",
   "pygments_lexer": "ipython3",
   "version": "3.9.16"
  },
  "orig_nbformat": 4
 },
 "nbformat": 4,
 "nbformat_minor": 2
}
