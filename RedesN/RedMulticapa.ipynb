{
 "cells": [
  {
   "attachments": {},
   "cell_type": "markdown",
   "metadata": {},
   "source": [
    "## Perez Llera Leonardo\n",
    "## 6BM1\n",
    "## Red multicapa\n",
    "##"
   ]
  },
  {
   "cell_type": "code",
   "execution_count": 20,
   "metadata": {},
   "outputs": [],
   "source": [
    "import numpy as np"
   ]
  },
  {
   "cell_type": "code",
   "execution_count": 21,
   "metadata": {},
   "outputs": [],
   "source": [
    "def sigmoid(x):\n",
    "    return 1  /(1 + np.exp(-x))"
   ]
  },
  {
   "cell_type": "code",
   "execution_count": 22,
   "metadata": {},
   "outputs": [],
   "source": [
    "nInput = 4\n",
    "nHidden = 3\n",
    "nOut = 2"
   ]
  },
  {
   "cell_type": "code",
   "execution_count": 23,
   "metadata": {},
   "outputs": [
    {
     "name": "stdout",
     "output_type": "stream",
     "text": [
      "[[ 0.04967142 -0.01382643  0.06476885]\n",
      " [ 0.15230299 -0.02341534 -0.0234137 ]\n",
      " [ 0.15792128  0.07674347 -0.04694744]\n",
      " [ 0.054256   -0.04634177 -0.04657298]]\n",
      "[[ 0.02419623 -0.19132802]\n",
      " [-0.17249178 -0.05622875]\n",
      " [-0.10128311  0.03142473]]\n",
      "[-0.90802408 -1.4123037   1.46564877 -0.2257763 ]\n"
     ]
    }
   ],
   "source": [
    "mean = 0.0\n",
    "stdev = 0.1\n",
    "\n",
    "np.random.seed(42)\n",
    "weightsInput = np.random.normal(mean, scale=stdev, size=(nInput, nHidden))\n",
    "weightsHidden = np.random.normal(mean, scale=stdev, size=(nHidden, nOut))\n",
    "\n",
    "x = np.random.randn(4)\n",
    "\n",
    "print(weightsInput)\n",
    "print(weightsHidden)\n",
    "print(x)"
   ]
  },
  {
   "cell_type": "code",
   "execution_count": 25,
   "metadata": {},
   "outputs": [
    {
     "name": "stdout",
     "output_type": "stream",
     "text": [
      "Input layer:\n",
      "[0.48975306 0.54204203 0.4790029 ]\n",
      "Output layer:\n",
      "[0.46750523 0.47274472]\n"
     ]
    }
   ],
   "source": [
    "h = np.dot(x, weightsInput)\n",
    "out = sigmoid(h)\n",
    "\n",
    "print(\"Input layer:\")\n",
    "print(out)\n",
    "\n",
    "h = np.dot(out, weightsHidden)\n",
    "out = sigmoid(h)\n",
    "\n",
    "print(\"Output layer:\")\n",
    "print(out)"
   ]
  }
 ],
 "metadata": {
  "kernelspec": {
   "display_name": "python",
   "language": "python",
   "name": "python3"
  },
  "language_info": {
   "codemirror_mode": {
    "name": "ipython",
    "version": 3
   },
   "file_extension": ".py",
   "mimetype": "text/x-python",
   "name": "python",
   "nbconvert_exporter": "python",
   "pygments_lexer": "ipython3",
   "version": "3.9.16"
  },
  "orig_nbformat": 4
 },
 "nbformat": 4,
 "nbformat_minor": 2
}
